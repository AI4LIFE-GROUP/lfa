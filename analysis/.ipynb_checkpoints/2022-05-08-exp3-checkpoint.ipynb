{
 "cells": [
  {
   "cell_type": "markdown",
   "id": "b5f4100d-3308-4f78-8984-afe79e868f75",
   "metadata": {},
   "source": [
    "# load"
   ]
  },
  {
   "cell_type": "markdown",
   "id": "f4bf92e6-c8c8-4977-8fd1-66060d94b7b3",
   "metadata": {},
   "source": [
    "### modules"
   ]
  },
  {
   "cell_type": "code",
   "execution_count": 1,
   "id": "4a408046-fbf9-458f-8de3-a5715b72f875",
   "metadata": {},
   "outputs": [],
   "source": [
    "###arguments\n",
    "\n",
    "#regression\n",
    "exp_folder = '../experiments/results_saved'\n",
    "data_name = 'who'\n",
    "model_name = 'ffnnA' #regr: linear, ffnnA, ffnnB, ffnnC\n",
    "task = 'regr'\n",
    "results_folder = f'explanations_{task}_{data_name}_{model_name}_n100'\n",
    "\n",
    "# #classification\n",
    "# exp_folder = 'meta-algo-v6-classif-heloc-norm01'\n",
    "# data_name= 'heloc'\n",
    "# bb_model = 'ffnn_h8_n8_relu' #classif: logistic, ffnn_h3_n8_relu, ffnn_h5_n8_relu, ffnn_h8_n8_relu\n",
    "# task = 'classif'\n",
    "# results_folder = f'exp_{bb_model}_n100'"
   ]
  },
  {
   "cell_type": "code",
   "execution_count": 2,
   "id": "bd65c4e8-e267-43cc-910b-c8ae3732f6a6",
   "metadata": {},
   "outputs": [],
   "source": [
    "import torch\n",
    "import numpy as np\n",
    "\n",
    "import pandas as pd\n",
    "import matplotlib.pyplot as plt\n",
    "import seaborn as sns\n",
    "from scipy.stats import sem\n",
    "\n",
    "import sys\n",
    "# sys.path.insert(1, f'/n/home07/than157/desktop/{exp_folder}') # adding folder with experimental results to the system path\n",
    "# sys.path.insert(0, '/n/home07/than157/desktop/meta-algo-scripts') # adding folder with scripts to the system path\n",
    "\n",
    "\n",
    "import sys\n",
    "# sys.path.append(\"/Users/th/Dropbox/ddesktop/research/lfa/code\")\n",
    "sys.path.insert(0, '/Users/th/Dropbox/ddesktop/research/lfa/code') # adding folder with scripts to the system path\n",
    "\n",
    "from experiments.functions_load_model_and_data import load_data_and_model\n",
    "\n",
    "from functions_analysis import calc_L1_norm, calc_cos_dist, create_df_for_seaborn_g2, calc_metric_dict_g2\n"
   ]
  },
  {
   "cell_type": "markdown",
   "id": "ce8c2948-3fc0-47c7-8188-882c099d529f",
   "metadata": {},
   "source": [
    "### model and data"
   ]
  },
  {
   "cell_type": "code",
   "execution_count": 3,
   "id": "155cc191",
   "metadata": {},
   "outputs": [],
   "source": [
    "import os\n",
    "NEW_PATH = '/Users/th/Dropbox/ddesktop/research/lfa/code'\n",
    "os.chdir(NEW_PATH)"
   ]
  },
  {
   "cell_type": "code",
   "execution_count": 4,
   "id": "3948e4df-c310-4563-a940-13bdbec1b3a5",
   "metadata": {},
   "outputs": [],
   "source": [
    "#load model_f, X, and y\n",
    "X, y, model_f = load_data_and_model(data_name, model_name, task)"
   ]
  },
  {
   "cell_type": "code",
   "execution_count": 5,
   "id": "48172d37-d9a4-44d1-a178-90ad03d278ad",
   "metadata": {},
   "outputs": [
    {
     "name": "stdout",
     "output_type": "stream",
     "text": [
      "FFNNRegression(\n",
      "  (linear1): Linear(in_features=19, out_features=8, bias=True)\n",
      "  (tanh1): Tanh()\n",
      "  (linear2): Linear(in_features=8, out_features=8, bias=True)\n",
      "  (tanh2): Tanh()\n",
      "  (linear3): Linear(in_features=8, out_features=1, bias=True)\n",
      ")\n",
      "tensor([[-1.0546e-02, -5.1258e-02, -1.2802e-01,  1.6842e-01, -1.0732e-01,\n",
      "          2.4846e-01, -1.0077e-01,  1.9117e-01,  2.1688e-01,  2.6538e-01,\n",
      "          2.3164e-01, -1.7545e-01,  1.9339e-01, -6.8839e-02, -1.9119e-01,\n",
      "          2.2586e-01,  4.5556e-02, -2.4843e-01, -2.1972e-01],\n",
      "        [-5.7517e-02, -1.8970e-01, -3.6311e-02, -6.6315e-02, -2.0009e-01,\n",
      "         -7.1058e-02,  2.2725e-02, -1.7708e-01,  5.7438e-02,  2.8639e-01,\n",
      "          2.3903e-01, -1.2607e-01, -4.3401e-01,  7.7172e-02,  1.0889e-01,\n",
      "         -1.2763e-01, -1.4268e-01, -2.4083e-03,  1.2609e-01],\n",
      "        [ 1.1270e-01,  5.3574e-01, -4.2830e-02, -7.4831e-02, -1.7629e-01,\n",
      "         -1.3223e-01,  2.1278e-01, -2.0429e-01,  2.3935e-01, -2.5510e-01,\n",
      "          4.0985e-02, -2.2561e-01,  1.4566e+00, -1.6233e-01, -8.1693e-02,\n",
      "          1.0050e-01, -1.2345e-01, -1.6298e-01, -4.5037e-01],\n",
      "        [-6.7803e-02,  4.8428e-01, -2.2321e-01,  9.5708e-02,  1.2593e-01,\n",
      "         -1.7743e-01,  1.5540e-01,  7.1367e-02, -2.4757e-03,  5.4460e-02,\n",
      "         -4.8547e-02,  6.4668e-02,  2.1037e-01, -2.3560e-01, -2.1067e-01,\n",
      "          2.5114e-01,  2.7225e-01,  1.3467e-03, -2.4964e-01],\n",
      "        [ 5.7638e-02,  2.7952e-01,  2.2605e-01, -2.5933e-01, -6.7152e-02,\n",
      "          1.0426e-01,  1.3007e-01,  3.4207e-02, -5.2865e-02,  1.2187e-01,\n",
      "          7.5980e-02, -1.3835e-01,  4.2904e-02,  4.7976e-02, -8.4227e-02,\n",
      "          1.8117e-01,  1.0654e-02, -1.7804e-01,  7.3348e-02],\n",
      "        [-2.0524e-01,  3.3227e-01, -8.2498e-02, -6.4119e-02,  8.2189e-02,\n",
      "          4.0734e-01, -1.6279e-01,  3.9438e-02,  2.3487e-01,  4.5946e-01,\n",
      "         -7.1369e-02,  1.1593e-01,  4.1732e-01, -1.7204e-01, -1.2422e-01,\n",
      "         -1.5468e-01,  1.5283e-01, -3.3264e-01, -3.7039e-01],\n",
      "        [ 8.7407e-02,  2.8656e-01,  1.8170e-01, -2.2270e-01, -9.0186e-02,\n",
      "         -3.9722e-03,  1.5180e-01, -2.0162e-01, -9.4201e-02, -2.4102e-01,\n",
      "          1.1862e-01, -1.5471e-01,  1.5175e-01,  8.4857e-02,  1.6217e-01,\n",
      "         -1.6038e-01,  9.2120e-02, -4.3979e-02, -6.0426e-02],\n",
      "        [-5.4348e-02, -2.6681e-01, -1.5881e-01,  3.4817e-02, -7.6156e-02,\n",
      "         -1.6512e-01, -1.1356e-02, -4.7811e-02, -1.6763e-01,  4.8335e-02,\n",
      "         -2.1692e-01,  1.4431e-01,  3.6872e-01, -8.1145e-02,  1.6057e-01,\n",
      "         -3.3692e-02, -1.5343e-01,  1.3638e-01, -1.7239e-01]])\n",
      "tensor([-0.0081, -0.1618,  0.4108, -0.0483,  0.0386,  0.2454,  0.0438, -0.0027])\n",
      "tensor([[-0.0359,  0.0555,  0.2085,  0.2949,  0.2691, -0.0625,  0.2278, -0.2450],\n",
      "        [ 0.0292,  0.1499, -0.3219, -0.1275, -0.1856, -0.0798, -0.1787,  0.0618],\n",
      "        [ 0.2122, -0.2320,  0.6564,  0.2045,  0.2687,  0.4524, -0.2622,  0.2091],\n",
      "        [ 0.0165,  0.1041, -0.4499, -0.0188,  0.3639,  0.1097,  0.0526, -0.1369],\n",
      "        [ 0.3258, -0.2412, -0.2606,  0.1712,  0.1189,  0.2549,  0.0860, -0.1892],\n",
      "        [ 0.1455, -0.3249,  0.8071,  0.2766,  0.1659,  0.2834,  0.3085,  0.1330],\n",
      "        [-0.2774, -0.0478, -0.2496,  0.1532,  0.2021, -0.4822, -0.2385,  0.1550],\n",
      "        [-0.0140, -0.1770, -0.0592,  0.1025,  0.0846, -0.0673,  0.1996, -0.3239]])\n",
      "tensor([ 0.1353, -0.0950,  0.1535, -0.1895, -0.2061,  0.2018, -0.0345, -0.0383])\n",
      "tensor([[ 0.1226, -0.0077, -0.2708,  0.1169,  0.1716, -0.3006,  0.1696,  0.0362]])\n",
      "tensor([0.7170])\n"
     ]
    }
   ],
   "source": [
    "#print model architecture\n",
    "print(model_f)\n",
    "\n",
    "#print model weights\n",
    "for param in model_f.parameters():\n",
    "    print(param.data)"
   ]
  },
  {
   "cell_type": "markdown",
   "id": "d3075096-8504-46d6-9f63-8a6371bc05b4",
   "metadata": {},
   "source": [
    "### attributions -- use captum methods"
   ]
  },
  {
   "cell_type": "code",
   "execution_count": 6,
   "id": "70577c94",
   "metadata": {},
   "outputs": [],
   "source": [
    "NEW_PATH = '/Users/th/Dropbox/ddesktop/research/lfa/code/analysis'\n",
    "os.chdir(NEW_PATH)"
   ]
  },
  {
   "cell_type": "code",
   "execution_count": 7,
   "id": "0a4c9602-6b2a-4934-bfc2-3e54959858e1",
   "metadata": {},
   "outputs": [],
   "source": [
    "###captum\n",
    "\n",
    "####methods based on n_perturb\n",
    "method_names = [\n",
    "    'captum_lime',\n",
    "    'captum_ks',\n",
    "    'captum_sg',\n",
    "    'captum_ig',\n",
    "]\n",
    "n_perturb = 1000\n",
    "\n",
    "#load attributions\n",
    "attr_dict = {}\n",
    "for method_name in method_names:\n",
    "    #load feature attributions generated based on each n_perturb\n",
    "    attr_tensor = torch.load(f'{exp_folder}/{results_folder}/{method_name}/{method_name}_{n_perturb}/attr_{method_name}_{n_perturb}.pth')\n",
    "    #save dictionary\n",
    "    attr_dict[method_name] = attr_tensor\n",
    "    \n",
    "\n",
    "###methods not based on n_perturb\n",
    "method_names = [\n",
    "    'captum_vg',\n",
    "    'captum_gxi',\n",
    "    'captum_oc',\n",
    "]\n",
    "\n",
    "#load attributions\n",
    "for method_name in method_names:\n",
    "    #load feature attributions generated based on each n_perturb\n",
    "    attr_tensor = torch.load(f'{exp_folder}/{results_folder}/{method_name}/attr_{method_name}.pth').detach()\n",
    "    #save dictionary\n",
    "    attr_dict[method_name] = attr_tensor"
   ]
  },
  {
   "cell_type": "markdown",
   "id": "df9cd041-3976-4c95-a782-534616888f33",
   "metadata": {},
   "source": [
    "# perturbation test"
   ]
  },
  {
   "cell_type": "code",
   "execution_count": 8,
   "id": "a665388f-d0cb-41e3-9c83-e0a2d26e7671",
   "metadata": {},
   "outputs": [],
   "source": [
    "#perturbation test for one method and one k value\n",
    "#generates ONE perturbation for binary perturbations and MANY perturbation for continuous perturbations\n",
    "\n",
    "def perturb_test_1method_1k(model_f, g_weights, X, k, perturb_type=['binary', 'continuous'], n_perturb_continuous=100):\n",
    "    #get bottom-k features predicted by g_weights\n",
    "    bottomk_id = torch.argsort(g_weights.abs(), descending=False, dim=1)[:, 0:k]\n",
    "\n",
    "    ###create perturbations and calculate change in model predictions\n",
    "    n_data_points = X.size(0)\n",
    "    row_idx = torch.arange(n_data_points).unsqueeze(1) #TODO: may differ for images\n",
    "    X_bottomk_perturb = X.detach().clone() #get a copy of X\n",
    "\n",
    "    #binary perturbations: set bottom-k features equal to zero --> one perturbation\n",
    "    if perturb_type=='binary':\n",
    "        X_bottomk_perturb[row_idx, bottomk_id] = 0\n",
    "\n",
    "        #get model predictions for X (original data points)\n",
    "        #get model predictions for X_bottomk_perturb (data points with bottom-k features turned off)\n",
    "        #calculate magnitude of prediction difference\n",
    "        pred_delta = (model_f(X) - model_f(X_bottomk_perturb)).abs() #[n_data_points in g_weights, 1] ([100, 1])\n",
    "        pred_delta = pred_delta.detach().numpy()\n",
    "\n",
    "    #continuous perturbations: add gaussian noise to bottom-k features --> many perturbations\n",
    "    if perturb_type=='continuous':\n",
    "\n",
    "        pred_delta = torch.zeros((n_data_points, k)) #store change in model predictions for each data point\n",
    "\n",
    "        for i in range(n_perturb_continuous):\n",
    "            #generate one perturbation for each data point \n",
    "            noise = torch.randn_like(X[row_idx, bottomk_id]) * 0.1 #perturbation = x + Normal(0, epsilon^2), epsilon=0.1\n",
    "            X_bottomk_perturb[row_idx, bottomk_id] = X[row_idx, bottomk_id] + noise #[n_data_points, k]\n",
    "\n",
    "            #get model predictions for X (original data points)\n",
    "            #get model predictions for X_bottomk_perturb (data points with bottom-k features turned off)\n",
    "            #calculate magnitude of prediction difference\n",
    "            pred_delta_one_perturb = (model_f(X) - model_f(X_bottomk_perturb)).abs() #[n_data_points, 1] ([100, 1])\n",
    "            pred_delta += pred_delta_one_perturb.detach().numpy()\n",
    "\n",
    "        #for each data point, take the average of the perturbations\n",
    "        pred_delta = pred_delta/n_perturb_continuous #mean over n_perturb_continuous\n",
    "\n",
    "    #return metric mean, sem, distr \n",
    "    return pred_delta.mean(), sem(pred_delta)[0], pred_delta #mean over n_data_points"
   ]
  },
  {
   "cell_type": "code",
   "execution_count": 9,
   "id": "03f609ba-c5e0-4953-9b9d-22ddf8b0af37",
   "metadata": {},
   "outputs": [],
   "source": [
    "# #perturbation test for one method and one k value\n",
    "# #generates ONE perturbation for binary perturbations and ONE perturbation for continuous perturbations\n",
    "\n",
    "# def perturb_test_1method_1k(model_f, g_weights, X, k, perturb_type=['binary', 'continuous']):\n",
    "#     '''\n",
    "#     model_f: Callable, blackbox model (input: tensor [n_data_points, n_features] --> output: tensor [n_data_points, 1])\n",
    "#     g_weights: tensor [n_data_points, n_features], feature attributions for n_data_points\n",
    "#     X: tensor [n_data_points, n_features], data points explained by g_weights\n",
    "#     k: int, bottom-k features\n",
    "#     '''\n",
    "#     #get bottom-k features predicted by g_weights\n",
    "#     bottomk_id = torch.argsort(g_weights.abs(), descending=False, dim=1)[:, 0:k]\n",
    "\n",
    "#     #X_bottomk_off: set bottom-k features equal to zero   \n",
    "#     row_idx = torch.arange(X.size(0)).unsqueeze(1) #TODO: may differ for images\n",
    "#     X_bottomk_perturb = X.detach().clone()\n",
    "    \n",
    "#     if perturb_type=='binary':\n",
    "#         X_bottomk_perturb[row_idx, bottomk_id] = 0\n",
    "        \n",
    "#     if perturb_type=='continuous':\n",
    "#         noise = torch.randn_like(X[row_idx, bottomk_id]) * 0.1 #perturbation = x + Normal(0, epsilon^2), epsilon=0.1\n",
    "#         X_bottomk_perturb[row_idx, bottomk_id] = X[row_idx, bottomk_id] + noise\n",
    "    \n",
    "#     #get model predictions for X (original data points)\n",
    "#     #get model predictions for X_bottomk_perturb (data points with bottom-k features turned off)\n",
    "#     #calculate magnitude of prediction difference\n",
    "#     pred_delta = (model_f(X) - model_f(X_bottomk_perturb)).abs()\n",
    "#     pred_delta = pred_delta.detach().numpy()\n",
    "\n",
    "#     #return metric mean, sem, distr\n",
    "#     return pred_delta.mean(), sem(pred_delta)[0], pred_delta"
   ]
  },
  {
   "cell_type": "code",
   "execution_count": 10,
   "id": "8ffddb09-2d09-435f-84ec-a50531bbac19",
   "metadata": {},
   "outputs": [],
   "source": [
    "def perturb_test(attr_dict, n_features, model_f, X, perturb_type=['binary', 'continuous']):\n",
    "    perturb_test_dict = {}\n",
    "\n",
    "    for method_name, attr_tensor in attr_dict.items():\n",
    "        perturb_test_dict_method = {}\n",
    "        for k in range(1, n_features+1):\n",
    "            metric_mean, metric_sem, metric_distr = perturb_test_1method_1k(model_f=model_f, g_weights=attr_tensor, X=X, k=k, perturb_type=perturb_type)\n",
    "            perturb_test_dict_method[k] = metric_mean, metric_sem\n",
    "\n",
    "        perturb_test_dict[method_name] = perturb_test_dict_method\n",
    "    \n",
    "    return perturb_test_dict"
   ]
  },
  {
   "cell_type": "code",
   "execution_count": 11,
   "id": "222de317-0963-46c1-a974-991ece445843",
   "metadata": {
    "scrolled": true,
    "tags": []
   },
   "outputs": [],
   "source": [
    "results_dict_binary = perturb_test(attr_dict=attr_dict, \n",
    "                                        n_features=11, \n",
    "                                        model_f=model_f,\n",
    "                                        X=X, \n",
    "                                        perturb_type='binary')\n",
    "\n",
    "results_dict_continuous = perturb_test(attr_dict=attr_dict, \n",
    "                                        n_features=11, \n",
    "                                        model_f=model_f,\n",
    "                                        X=X, \n",
    "                                        perturb_type='continuous')"
   ]
  },
  {
   "cell_type": "markdown",
   "id": "9bc4460b-7bb9-4307-89d5-3e3c5181cd44",
   "metadata": {},
   "source": [
    "### plot"
   ]
  },
  {
   "cell_type": "code",
   "execution_count": 12,
   "id": "84af025c-21a9-4139-91e4-1ed73d4ce365",
   "metadata": {},
   "outputs": [],
   "source": [
    "methods_subset = ['captum_lime', 'captum_ks', 'captum_oc', 'captum_ig', 'captum_gxi',  'captum_sg', 'captum_vg'] #all\n",
    "# methods_subset = ['captum_lime', 'captum_ks', 'captum_oc', 'captum_ig', 'captum_gxi'] #multiplicative\n",
    "# methods_subset = ['captum_sg', 'captum_vg'] #additive\n"
   ]
  },
  {
   "cell_type": "code",
   "execution_count": 13,
   "id": "76148982-5dac-42cb-86aa-52a746f88bdf",
   "metadata": {},
   "outputs": [],
   "source": [
    "legend_label_dict = {'captum_lime': 'LIME',\n",
    "                     'captum_ks': 'KernelSHAP',\n",
    "                     'captum_oc': 'Occlusion',\n",
    "                     'captum_ig': 'Integrated Gradients',\n",
    "                     'captum_gxi': 'Gradient x Input',\n",
    "                     'captum_sg': 'SmoothGrad',\n",
    "                     'captum_vg': 'Vanilla Gradients',\n",
    "                    }\n",
    "\n",
    "#color and shape\n",
    "point_dict = {'captum_lime': ['o', 'cornflowerblue'],\n",
    "              'captum_ks': ['^', 'cornflowerblue'],\n",
    "              'captum_oc': ['s', 'cornflowerblue'],\n",
    "              'captum_ig': ['p', 'cornflowerblue'],\n",
    "              'captum_gxi': ['*', 'cornflowerblue'],\n",
    "              'captum_sg': ['o', 'lightsalmon'],\n",
    "              'captum_vg': ['^', 'lightsalmon'],\n",
    "             }"
   ]
  },
  {
   "cell_type": "code",
   "execution_count": 16,
   "id": "3b399f06",
   "metadata": {},
   "outputs": [],
   "source": [
    "plot_folder = 'figures/exp3'\n",
    "if not os.path.exists(plot_folder):\n",
    "    os.makedirs(plot_folder)"
   ]
  },
  {
   "cell_type": "code",
   "execution_count": 17,
   "id": "8c5ea9e6-28d3-4578-940a-12a25ac0e20a",
   "metadata": {},
   "outputs": [
    {
     "data": {
      "image/png": "[encoded data removed]",
      "text/plain": [
       "<Figure size 936x288 with 2 Axes>"
      ]
     },
     "metadata": {
      "needs_background": "light"
     },
     "output_type": "display_data"
    }
   ],
   "source": [
    "#plot\n",
    "torch.manual_seed(12345)\n",
    "np.random.seed(12345)\n",
    "\n",
    "fig, axes = plt.subplots(1, 2, figsize =(13, 4))\n",
    "\n",
    "###plot binary perturbations\n",
    "for method_name in methods_subset:\n",
    "    \n",
    "    metric_dict_method = results_dict_binary[method_name] #use results_dict_binary\n",
    "    \n",
    "    ks = list(metric_dict_method.keys())\n",
    "    mean_sem_tup_list = list(metric_dict_method.values())\n",
    "    means, sems = zip(*mean_sem_tup_list)\n",
    "    \n",
    "    axes[0].errorbar(ks, means, yerr=sems, alpha=0.5,\n",
    "                     fmt=point_dict[method_name][0], color=point_dict[method_name][1], label=f'{legend_label_dict[method_name]}')\n",
    "    axes[0].legend(loc='best')\n",
    "    axes[0].set(xlabel='$k$', ylabel='Absolute Difference of Model Prediction', title='Binary Perturbations')\n",
    "    \n",
    "###remove error bar in legend\n",
    "# get handles\n",
    "handles, labels = axes[0].get_legend_handles_labels()\n",
    "# remove the errorbars\n",
    "handles = [h[0] for h in handles]\n",
    "# use them in the legend\n",
    "axes[0].legend(handles, labels, loc='best')\n",
    "\n",
    "###plot continuous perturbations\n",
    "for method_name in methods_subset:\n",
    "    \n",
    "    metric_dict_method = results_dict_continuous[method_name] #use results_dict_continuous\n",
    "    \n",
    "    ks = list(metric_dict_method.keys())\n",
    "    mean_sem_tup_list = list(metric_dict_method.values())\n",
    "    means, sems = zip(*mean_sem_tup_list)\n",
    "    \n",
    "    axes[1].errorbar(ks, means, yerr=sems, alpha=0.5,\n",
    "                     fmt=point_dict[method_name][0], color=point_dict[method_name][1], label=f'{legend_label_dict[method_name]}')\n",
    "    axes[1].legend(loc='best') #turn off legend\n",
    "    axes[1].get_legend().remove()\n",
    "    axes[1].set(xlabel='$k$', ylabel='Absolute Difference of Model Prediction', title='Continuous Perturbations')\n",
    "    \n",
    "    plot_path = f'{plot_folder}/exp3_{data_name}_{model_name}.png'\n",
    "    plt.savefig(plot_path, facecolor='white', transparent=False, dpi=1000);"
   ]
  },
  {
   "cell_type": "code",
   "execution_count": null,
   "id": "72b58953-e6ec-4aa4-832f-01ed5a581b9a",
   "metadata": {},
   "outputs": [],
   "source": []
  },
  {
   "cell_type": "code",
   "execution_count": null,
   "id": "9a9ea121-4c84-4fa9-a69f-ab6887644dac",
   "metadata": {},
   "outputs": [],
   "source": []
  },
  {
   "cell_type": "code",
   "execution_count": null,
   "id": "4459feaf-5af6-479a-9e68-5f0f1c0ac93a",
   "metadata": {},
   "outputs": [],
   "source": []
  },
  {
   "cell_type": "code",
   "execution_count": null,
   "id": "4ebfeec6-56df-4858-afe9-aa8989fd052e",
   "metadata": {},
   "outputs": [],
   "source": []
  },
  {
   "cell_type": "code",
   "execution_count": null,
   "id": "92a58be9-c359-4227-9ed6-a44464b44768",
   "metadata": {},
   "outputs": [],
   "source": []
  },
  {
   "cell_type": "code",
   "execution_count": null,
   "id": "bc72b7ff-7a11-4293-b7c8-4d11ec85359f",
   "metadata": {},
   "outputs": [],
   "source": []
  }
 ],
 "metadata": {
  "kernelspec": {
   "display_name": "Python 3",
   "language": "python",
   "name": "python3"
  },
  "language_info": {
   "codemirror_mode": {
    "name": "ipython",
    "version": 3
   },
   "file_extension": ".py",
   "mimetype": "text/x-python",
   "name": "python",
   "nbconvert_exporter": "python",
   "pygments_lexer": "ipython3",
   "version": "3.8.8"
  }
 },
 "nbformat": 4,
 "nbformat_minor": 5
}
