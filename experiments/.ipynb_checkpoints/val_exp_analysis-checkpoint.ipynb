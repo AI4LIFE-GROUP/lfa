{
 "cells": [
  {
   "cell_type": "code",
   "execution_count": 1,
   "id": "8b7bb9e5",
   "metadata": {},
   "outputs": [],
   "source": [
    "import torch"
   ]
  },
  {
   "cell_type": "code",
   "execution_count": 2,
   "id": "69a21d77",
   "metadata": {},
   "outputs": [],
   "source": [
    "# import sys\n",
    "# sys.path.append('../code')"
   ]
  },
  {
   "cell_type": "code",
   "execution_count": 3,
   "id": "afb6b95f",
   "metadata": {},
   "outputs": [],
   "source": [
    "task = 'regr' #regr, classif\n",
    "model_name = 'linear' #linear, logistic, ffnnC\n",
    "dataset = 'who' if task=='regr' else 'heloc'\n",
    "g_name = 'linear' if task=='regr' else 'logistic'\n",
    "\n",
    "n_points = 100 #number of data points\n",
    "n_perturb = 150 #number of perturbations generated for each point to fit g "
   ]
  },
  {
   "cell_type": "code",
   "execution_count": null,
   "id": "354d087a",
   "metadata": {},
   "outputs": [],
   "source": []
  },
  {
   "cell_type": "markdown",
   "id": "a355a8af",
   "metadata": {},
   "source": [
    "### load"
   ]
  },
  {
   "cell_type": "code",
   "execution_count": 17,
   "id": "c970e179",
   "metadata": {},
   "outputs": [
    {
     "ename": "ModuleNotFoundError",
     "evalue": "No module named 'models'",
     "output_type": "error",
     "traceback": [
      "\u001b[0;31m---------------------------------------------------------------------------\u001b[0m",
      "\u001b[0;31mModuleNotFoundError\u001b[0m                       Traceback (most recent call last)",
      "\u001b[0;32m<ipython-input-17-5ff23e9e8e42>\u001b[0m in \u001b[0;36m<module>\u001b[0;34m\u001b[0m\n\u001b[1;32m      1\u001b[0m \u001b[0;31m###load data and models\u001b[0m\u001b[0;34m\u001b[0m\u001b[0;34m\u001b[0m\u001b[0;34m\u001b[0m\u001b[0m\n\u001b[0;32m----> 2\u001b[0;31m \u001b[0;32mfrom\u001b[0m \u001b[0mfunctions_load_model_and_data\u001b[0m \u001b[0;32mimport\u001b[0m \u001b[0mload_data_and_model\u001b[0m\u001b[0;34m\u001b[0m\u001b[0;34m\u001b[0m\u001b[0m\n\u001b[0m\u001b[1;32m      3\u001b[0m \u001b[0;34m\u001b[0m\u001b[0m\n\u001b[1;32m      4\u001b[0m \u001b[0mX\u001b[0m\u001b[0;34m,\u001b[0m \u001b[0my\u001b[0m\u001b[0;34m,\u001b[0m \u001b[0mmodel_f\u001b[0m \u001b[0;34m=\u001b[0m \u001b[0mload_data_and_model\u001b[0m\u001b[0;34m(\u001b[0m\u001b[0mdataset\u001b[0m\u001b[0;34m,\u001b[0m \u001b[0mmodel_name\u001b[0m\u001b[0;34m,\u001b[0m \u001b[0mtask\u001b[0m\u001b[0;34m)\u001b[0m\u001b[0;34m\u001b[0m\u001b[0;34m\u001b[0m\u001b[0m\n",
      "\u001b[0;32m~/Dropbox/ddesktop/research/lfa-neurips/code_clean_up/code/experiments/functions_load_model_and_data.py\u001b[0m in \u001b[0;36m<module>\u001b[0;34m\u001b[0m\n\u001b[1;32m      4\u001b[0m \u001b[0;32mimport\u001b[0m \u001b[0msys\u001b[0m\u001b[0;34m\u001b[0m\u001b[0;34m\u001b[0m\u001b[0m\n\u001b[1;32m      5\u001b[0m \u001b[0msys\u001b[0m\u001b[0;34m.\u001b[0m\u001b[0mpath\u001b[0m\u001b[0;34m.\u001b[0m\u001b[0mappend\u001b[0m\u001b[0;34m(\u001b[0m\u001b[0;34m\"../code\"\u001b[0m\u001b[0;34m)\u001b[0m\u001b[0;34m\u001b[0m\u001b[0;34m\u001b[0m\u001b[0m\n\u001b[0;32m----> 6\u001b[0;31m \u001b[0;32mfrom\u001b[0m \u001b[0mmodels\u001b[0m\u001b[0;34m.\u001b[0m\u001b[0mfunctions_model_training\u001b[0m \u001b[0;32mimport\u001b[0m \u001b[0mLinearRegressionNN\u001b[0m\u001b[0;34m,\u001b[0m \u001b[0mFFNNRegression\u001b[0m\u001b[0;34m,\u001b[0m \u001b[0mFFNNRegressionB\u001b[0m\u001b[0;34m,\u001b[0m \u001b[0mFFNNRegressionC\u001b[0m\u001b[0;34m,\u001b[0m \u001b[0mLogisticRegressionNN\u001b[0m\u001b[0;34m,\u001b[0m \u001b[0mFFNNClassification\u001b[0m\u001b[0;34m,\u001b[0m \u001b[0mFFNNClassificationB\u001b[0m\u001b[0;34m,\u001b[0m \u001b[0mFFNNClassificationC\u001b[0m\u001b[0;34m\u001b[0m\u001b[0;34m\u001b[0m\u001b[0m\n\u001b[0m\u001b[1;32m      7\u001b[0m \u001b[0;34m\u001b[0m\u001b[0m\n\u001b[1;32m      8\u001b[0m \u001b[0;34m\u001b[0m\u001b[0m\n",
      "\u001b[0;31mModuleNotFoundError\u001b[0m: No module named 'models'"
     ]
    }
   ],
   "source": [
    "###load data and models\n",
    "from functions_load_model_and_data import load_data_and_model\n",
    "\n",
    "X, y, model_f = load_data_and_model(dataset, model_name, task)\n"
   ]
  },
  {
   "cell_type": "code",
   "execution_count": 14,
   "id": "2c7725a1",
   "metadata": {},
   "outputs": [],
   "source": [
    "###load explanations\n",
    "\n",
    "# path_explanation = f'./experiments/results/val_exp_explanations_{task}_{dataset}_{model_name}_n{n_points}/{g_name}_val_{val}/{g_name}_val_{val}_{n_perturb}/'\n",
    "# path_explanation = f'results/val_exp_explanations_{task}_{dataset}_{model_name}_n{n_points}/{g_name}_val_{val}/{g_name}_val_{val}_{n_perturb}/'\n",
    "\n",
    "#explanations when g trained without validation\n",
    "val = 'no'\n",
    "path_explanation = f'/Users/th/Dropbox/ddesktop/research/lfa-neurips/code_clean_up/code/experiments/results/val_exp_explanations_{task}_{dataset}_{model_name}_n{n_points}/{g_name}_val_{val}/{g_name}_val_{val}_{n_perturb}/'\n",
    "attr_tensor_val_no = torch.load(path_explanation + f'attr_{g_name}_val_{val}_{n_perturb}.pth').detach()\n",
    "bias_tensor_val_no = torch.load(path_explanation + f'bias_{g_name}_val_{val}_{n_perturb}.pth').detach()\n",
    "\n",
    "#explanations when g trained with validation\n",
    "val = 'yes'\n",
    "path_explanation = f'/Users/th/Dropbox/ddesktop/research/lfa-neurips/code_clean_up/code/experiments/results/val_exp_explanations_{task}_{dataset}_{model_name}_n{n_points}/{g_name}_val_{val}/{g_name}_val_{val}_{n_perturb}/'\n",
    "attr_tensor_val_yes = torch.load(path_explanation + f'attr_{g_name}_val_{val}_{n_perturb}.pth').detach()\n",
    "bias_tensor_val_yes = torch.load(path_explanation + f'bias_{g_name}_val_{val}_{n_perturb}.pth').detach()\n"
   ]
  },
  {
   "cell_type": "code",
   "execution_count": null,
   "id": "ec7fad1f",
   "metadata": {},
   "outputs": [],
   "source": [
    "#load explanations"
   ]
  },
  {
   "cell_type": "code",
   "execution_count": null,
   "id": "49a2d846",
   "metadata": {},
   "outputs": [],
   "source": [
    "#for each test point\n",
    "\n",
    "generate 200 perturbations\n",
    "\n",
    "get true predictions for perturbations\n",
    "\n",
    "\n",
    "get g_no_val's predictions\n",
    "calc mean absolute difference\n",
    "store it\n",
    "\n",
    "get g_yes_val's predictions\n",
    "calc mean absolute difference\n",
    "store it\n"
   ]
  },
  {
   "cell_type": "code",
   "execution_count": null,
   "id": "2ccdbd66",
   "metadata": {},
   "outputs": [],
   "source": [
    "plot distribution\n",
    "\n",
    "save plot"
   ]
  },
  {
   "cell_type": "code",
   "execution_count": null,
   "id": "878bae70",
   "metadata": {},
   "outputs": [],
   "source": []
  },
  {
   "cell_type": "code",
   "execution_count": null,
   "id": "3473af0d",
   "metadata": {},
   "outputs": [],
   "source": [
    "#if not working \n",
    "\n",
    "- try MSE vs. absolute difference\n",
    "- try smaller training set to highlight overfitting on small training set\n",
    "- try training on whole train set after validation\n",
    "- try another method (not lime)"
   ]
  },
  {
   "cell_type": "code",
   "execution_count": null,
   "id": "375c709a",
   "metadata": {},
   "outputs": [],
   "source": []
  },
  {
   "cell_type": "code",
   "execution_count": null,
   "id": "56b6e5db",
   "metadata": {},
   "outputs": [],
   "source": []
  },
  {
   "cell_type": "code",
   "execution_count": 43,
   "id": "e8d5d8d7",
   "metadata": {},
   "outputs": [],
   "source": [
    "error_val_no_list = [1, 2, 3]\n",
    "error_val_yes_list = [2, 4, 6]"
   ]
  },
  {
   "cell_type": "code",
   "execution_count": 44,
   "id": "d34b9287",
   "metadata": {},
   "outputs": [],
   "source": [
    "df_val_no = pd.DataFrame(error_val_no_list, columns=['error'])\n",
    "df_val_no['g'] = 'Without validation'"
   ]
  },
  {
   "cell_type": "code",
   "execution_count": 45,
   "id": "dc0fff6b",
   "metadata": {},
   "outputs": [],
   "source": [
    "df_val_yes = pd.DataFrame(error_val_yes_list, columns=['error'])\n",
    "df_val_yes['g'] = 'With validation'"
   ]
  },
  {
   "cell_type": "code",
   "execution_count": 47,
   "id": "4b8ea558",
   "metadata": {},
   "outputs": [
    {
     "data": {
      "text/html": [
       "<div>\n",
       "<style scoped>\n",
       "    .dataframe tbody tr th:only-of-type {\n",
       "        vertical-align: middle;\n",
       "    }\n",
       "\n",
       "    .dataframe tbody tr th {\n",
       "        vertical-align: top;\n",
       "    }\n",
       "\n",
       "    .dataframe thead th {\n",
       "        text-align: right;\n",
       "    }\n",
       "</style>\n",
       "<table border=\"1\" class=\"dataframe\">\n",
       "  <thead>\n",
       "    <tr style=\"text-align: right;\">\n",
       "      <th></th>\n",
       "      <th>error</th>\n",
       "      <th>g</th>\n",
       "    </tr>\n",
       "  </thead>\n",
       "  <tbody>\n",
       "    <tr>\n",
       "      <th>0</th>\n",
       "      <td>2</td>\n",
       "      <td>With validation</td>\n",
       "    </tr>\n",
       "    <tr>\n",
       "      <th>1</th>\n",
       "      <td>4</td>\n",
       "      <td>With validation</td>\n",
       "    </tr>\n",
       "    <tr>\n",
       "      <th>2</th>\n",
       "      <td>6</td>\n",
       "      <td>With validation</td>\n",
       "    </tr>\n",
       "  </tbody>\n",
       "</table>\n",
       "</div>"
      ],
      "text/plain": [
       "   error                g\n",
       "0      2  With validation\n",
       "1      4  With validation\n",
       "2      6  With validation"
      ]
     },
     "execution_count": 47,
     "metadata": {},
     "output_type": "execute_result"
    }
   ],
   "source": [
    "df_val_yes"
   ]
  },
  {
   "cell_type": "code",
   "execution_count": null,
   "id": "ec3892f6",
   "metadata": {},
   "outputs": [],
   "source": []
  },
  {
   "cell_type": "code",
   "execution_count": 24,
   "id": "ca81ce1a",
   "metadata": {},
   "outputs": [],
   "source": [
    "import seaborn as sns\n",
    "import pandas as pd"
   ]
  },
  {
   "cell_type": "code",
   "execution_count": 23,
   "id": "f2e11cfd",
   "metadata": {},
   "outputs": [
    {
     "data": {
      "image/png": "[encoded data removed]",
      "text/plain": [
       "<Figure size 432x288 with 1 Axes>"
      ]
     },
     "metadata": {
      "needs_background": "light"
     },
     "output_type": "display_data"
    }
   ],
   "source": [
    "ax = sns.boxplot(x=a)"
   ]
  },
  {
   "cell_type": "code",
   "execution_count": null,
   "id": "4d114cc4",
   "metadata": {},
   "outputs": [],
   "source": []
  }
 ],
 "metadata": {
  "kernelspec": {
   "display_name": "Python 3",
   "language": "python",
   "name": "python3"
  },
  "language_info": {
   "codemirror_mode": {
    "name": "ipython",
    "version": 3
   },
   "file_extension": ".py",
   "mimetype": "text/x-python",
   "name": "python",
   "nbconvert_exporter": "python",
   "pygments_lexer": "ipython3",
   "version": "3.8.8"
  }
 },
 "nbformat": 4,
 "nbformat_minor": 5
}
