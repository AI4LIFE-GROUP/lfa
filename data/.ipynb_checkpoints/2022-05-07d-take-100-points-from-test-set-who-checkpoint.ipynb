{
 "cells": [
  {
   "cell_type": "code",
   "execution_count": 1,
   "id": "5c9ed5b8-298c-4ffa-85fa-ee68b9ce8c36",
   "metadata": {},
   "outputs": [],
   "source": [
    "import pandas as pd"
   ]
  },
  {
   "cell_type": "code",
   "execution_count": 2,
   "id": "15264eb5-3c27-429c-ad6a-74351212d498",
   "metadata": {},
   "outputs": [],
   "source": [
    "#import test set\n",
    "test_size = 0.20\n",
    "test_str = int(test_size*100)\n",
    "data_name = 'who'\n",
    "data_type = 'normalized'\n",
    "\n",
    "filepath = f'clean/{data_name}-clean-test{test_str}-{data_type}.csv'\n",
    "data_test = pd.read_csv(filepath)"
   ]
  },
  {
   "cell_type": "code",
   "execution_count": 3,
   "id": "17c19f39-d386-4502-9753-77bfbfe15e51",
   "metadata": {},
   "outputs": [],
   "source": [
    "#take a random sample of 100 points from the test set\n",
    "subset_filepath = f'clean/{data_name}-clean-test{test_str}-{data_type}-subset.csv'\n",
    "data_test.sample(n=100, random_state=123).to_csv(subset_filepath, index=False)"
   ]
  },
  {
   "cell_type": "code",
   "execution_count": null,
   "id": "ca6326e8-4d63-49ca-93de-2a21d2efbc27",
   "metadata": {},
   "outputs": [],
   "source": []
  },
  {
   "cell_type": "code",
   "execution_count": null,
   "id": "69451715-fe7f-425c-bf4d-71cf2f4c66a5",
   "metadata": {},
   "outputs": [],
   "source": []
  }
 ],
 "metadata": {
  "kernelspec": {
   "display_name": "Python 3",
   "language": "python",
   "name": "python3"
  },
  "language_info": {
   "codemirror_mode": {
    "name": "ipython",
    "version": 3
   },
   "file_extension": ".py",
   "mimetype": "text/x-python",
   "name": "python",
   "nbconvert_exporter": "python",
   "pygments_lexer": "ipython3",
   "version": "3.8.8"
  }
 },
 "nbformat": 4,
 "nbformat_minor": 5
}
